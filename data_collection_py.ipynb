{
  "nbformat": 4,
  "nbformat_minor": 0,
  "metadata": {
    "colab": {
      "provenance": [],
      "toc_visible": true,
      "authorship_tag": "ABX9TyOOg3ZFgBaI027TXl20qnAh",
      "include_colab_link": true
    },
    "kernelspec": {
      "name": "python3",
      "display_name": "Python 3"
    },
    "language_info": {
      "name": "python"
    }
  },
  "cells": [
    {
      "cell_type": "markdown",
      "metadata": {
        "id": "view-in-github",
        "colab_type": "text"
      },
      "source": [
        "<a href=\"https://colab.research.google.com/github/VidulaN/Environmap-project/blob/main/data_collection_py.ipynb\" target=\"_parent\"><img src=\"https://colab.research.google.com/assets/colab-badge.svg\" alt=\"Open In Colab\"/></a>"
      ]
    },
    {
      "cell_type": "code",
      "execution_count": 14,
      "metadata": {
        "colab": {
          "base_uri": "https://localhost:8080/",
          "height": 219
        },
        "id": "6vVQ9DHdd0N-",
        "outputId": "f1bd59d8-4d95-4b78-cab2-529bb9afdf78"
      },
      "outputs": [
        {
          "output_type": "error",
          "ename": "KeyError",
          "evalue": "\"'Total_Emissions' column is not found!\"",
          "traceback": [
            "\u001b[0;31m---------------------------------------------------------------------------\u001b[0m",
            "\u001b[0;31mKeyError\u001b[0m                                  Traceback (most recent call last)",
            "\u001b[0;32m<ipython-input-14-874c1c3993cb>\u001b[0m in \u001b[0;36m<cell line: 0>\u001b[0;34m()\u001b[0m\n\u001b[1;32m      7\u001b[0m \u001b[0;31m# Check if 'Total_Emissions' column exists\u001b[0m\u001b[0;34m\u001b[0m\u001b[0;34m\u001b[0m\u001b[0m\n\u001b[1;32m      8\u001b[0m \u001b[0;32mif\u001b[0m \u001b[0;34m'Total_Emissions'\u001b[0m \u001b[0;32mnot\u001b[0m \u001b[0;32min\u001b[0m \u001b[0mair_quality\u001b[0m\u001b[0;34m.\u001b[0m\u001b[0mcolumns\u001b[0m\u001b[0;34m:\u001b[0m\u001b[0;34m\u001b[0m\u001b[0;34m\u001b[0m\u001b[0m\n\u001b[0;32m----> 9\u001b[0;31m     \u001b[0;32mraise\u001b[0m \u001b[0mKeyError\u001b[0m\u001b[0;34m(\u001b[0m\u001b[0;34m\"'Total_Emissions' column is not found!\"\u001b[0m\u001b[0;34m)\u001b[0m\u001b[0;34m\u001b[0m\u001b[0;34m\u001b[0m\u001b[0m\n\u001b[0m\u001b[1;32m     10\u001b[0m \u001b[0;34m\u001b[0m\u001b[0m\n\u001b[1;32m     11\u001b[0m \u001b[0;31m# Clean the relevant columns\u001b[0m\u001b[0;34m\u001b[0m\u001b[0;34m\u001b[0m\u001b[0m\n",
            "\u001b[0;31mKeyError\u001b[0m: \"'Total_Emissions' column is not found!\""
          ]
        }
      ],
      "source": [
        "import pandas as pd\n",
        "from sklearn.ensemble import RandomForestRegressor\n",
        "\n",
        "# Load and clean air quality data\n",
        "air_quality = pd.read_csv(\"air_quality.csv\")\n",
        "\n",
        "# Check if 'Total_Emissions' column exists\n",
        "if 'Total_Emissions' not in air_quality.columns:\n",
        "    raise KeyError(\"'Total_Emissions' column is not found!\")\n",
        "\n",
        "# Clean the relevant columns\n",
        "for col in [\"NOx\", \"PM10\", \"PM2.5\", \"Total_Emissions\"]:\n",
        "    air_quality[col] = air_quality[col].astype(str).str.replace(\",\", \"\").astype(float)\n",
        "\n",
        "# Load and clean CO2 emissions data\n",
        "co2 = pd.read_csv(\"co2_emissions.csv\")\n",
        "\n",
        "# Check if 'CO2_emissions' column exists\n",
        "if 'CO2_emissions' not in co2.columns:\n",
        "    raise KeyError(\"'CO2_emissions' column is not found!\")\n",
        "\n",
        "co2[\"CO2_emissions\"] = co2[\"CO2_emissions\"].astype(str).str.replace(\",\", \"\").astype(float)\n",
        "\n",
        "# Load and clean noise data\n",
        "noise = pd.read_csv(\"noise_pollution.csv\")\n",
        "\n",
        "# Check if 'Sound_level' column exists\n",
        "if 'Sound_level' not in noise.columns:\n",
        "    raise KeyError(\"'Sound_level' column is not found!\")\n",
        "\n",
        "# Clean the 'Sound_level' column\n",
        "noise[\"Sound_level\"] = noise[\"Sound_level\"].astype(str).str.extract(\"(\\d+)\").astype(float)\n",
        "\n",
        "# Merge all on Borough and Year\n",
        "df = air_quality.merge(co2, on=[\"Borough\", \"Year\"], how=\"inner\").merge(noise, on=[\"Borough\", \"Year\"], how=\"inner\")\n",
        "df.dropna(inplace=True)\n",
        "\n",
        "# Filter to 2010–2022 data for model training and historical output\n",
        "historical_df = df[(df[\"Year\"] >= 2010) & (df[\"Year\"] <= 2022)]\n",
        "\n",
        "# Feature engineering: Create a normalized Year feature\n",
        "df[\"Year_normalized\"] = (df[\"Year\"] - df[\"Year\"].min()) / (df[\"Year\"].max() - df[\"Year\"].min())\n",
        "historical_df[\"Year_normalized\"] = (historical_df[\"Year\"] - df[\"Year\"].min()) / (df[\"Year\"].max() - df[\"Year\"].min())\n",
        "\n",
        "# Encode Borough\n",
        "df[\"Borough_Code\"] = df[\"Borough\"].astype(\"category\").cat.codes\n",
        "historical_df[\"Borough_Code\"] = historical_df[\"Borough\"].astype(\"category\").cat.codes\n",
        "\n",
        "# Combine features for prediction\n",
        "X = historical_df[[\"Year_normalized\", \"Borough_Code\"]]\n",
        "\n",
        "# Predict for 2030\n",
        "future_years = [2030]\n",
        "boroughs = df[\"Borough\"].unique()\n",
        "future_input = pd.DataFrame([{\"Year\": year, \"Borough\": borough} for year in future_years for borough in boroughs])\n",
        "\n",
        "# Normalize future year\n",
        "future_input[\"Year_normalized\"] = (future_input[\"Year\"] - df[\"Year\"].min()) / (df[\"Year\"].max() - df[\"Year\"].min())\n",
        "\n",
        "# Encode Borough_Code\n",
        "future_input[\"Borough_Code\"] = future_input[\"Borough\"].astype(\"category\").cat.codes\n",
        "future_X = future_input[[\"Year_normalized\", \"Borough_Code\"]]\n",
        "\n",
        "# Models and predictions\n",
        "\n",
        "# Air Quality (NOx, PM10, PM2.5, Total_Emissions)\n",
        "air_features = [\"NOx\", \"PM10\", \"PM2.5\", \"Total_Emissions\"]\n",
        "model_air = RandomForestRegressor(n_estimators=100, random_state=42)\n",
        "model_air.fit(X, historical_df[air_features])\n",
        "air_pred = model_air.predict(future_X)\n",
        "\n",
        "air_future = future_input.copy()\n",
        "air_future[air_features] = air_pred\n",
        "air_result = pd.concat([\n",
        "    historical_df[[\"Borough\", \"Year\"] + air_features],\n",
        "    air_future[[\"Borough\", \"Year\"] + air_features]\n",
        "]).sort_values([\"Borough\", \"Year\"])\n",
        "air_result.to_csv(\"air_quality_predictions.csv\", index=False)\n",
        "\n",
        "# CO2 Emissions\n",
        "model_co2 = RandomForestRegressor(n_estimators=100, random_state=42)\n",
        "model_co2.fit(X, historical_df[\"CO2_emissions\"])\n",
        "co2_pred = model_co2.predict(future_X)\n",
        "\n",
        "co2_future = future_input.copy()\n",
        "co2_future[\"CO2_emissions\"] = co2_pred\n",
        "co2_result = pd.concat([\n",
        "    historical_df[[\"Borough\", \"Year\", \"CO2_emissions\"]],\n",
        "    co2_future[[\"Borough\", \"Year\", \"CO2_emissions\"]]\n",
        "]).sort_values([\"Borough\", \"Year\"])\n",
        "co2_result.to_csv(\"co2_emissions_predictions.csv\", index=False)\n",
        "\n",
        "# Noise Levels\n",
        "model_noise = RandomForestRegressor(n_estimators=100, random_state=42)\n",
        "model_noise.fit(X, historical_df[\"Sound_level\"])\n",
        "noise_pred = model_noise.predict(future_X)\n",
        "\n",
        "noise_future = future_input.copy()\n",
        "noise_future[\"Sound_level\"] = noise_pred\n",
        "noise_result = pd.concat([\n",
        "    historical_df[[\"Borough\", \"Year\", \"Sound_level\"]],\n",
        "    noise_future[[\"Borough\", \"Year\", \"Sound_level\"]]\n",
        "]).sort_values([\"Borough\", \"Year\"])\n",
        "noise_result.to_csv(\"noise_pollution_predictions.csv\", index=False)\n",
        "\n",
        "print(\"Predictions saved with 2010–2022 historical data and 2030 forecast:\")\n",
        "print(\"- air_quality_predictions.csv\")\n",
        "print(\"- co2_emissions_predictions.csv\")\n",
        "print(\"- noise_pollution_predictions.csv\")\n"
      ]
    }
  ]
}